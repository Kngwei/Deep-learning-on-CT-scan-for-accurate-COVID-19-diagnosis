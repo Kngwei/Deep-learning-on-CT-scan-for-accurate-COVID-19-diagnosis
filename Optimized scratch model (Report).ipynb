{
 "cells": [
  {
   "cell_type": "code",
   "execution_count": 23,
   "id": "8649bd71",
   "metadata": {},
   "outputs": [],
   "source": [
    "# Developing a Convolutional Neural Network (CNN)\n",
    "import numpy as np\n",
    "from tensorflow.keras.optimizers import Adam\n",
    "from tensorflow.keras.preprocessing.image import ImageDataGenerator\n",
    "from tensorflow.keras.models import Sequential\n",
    "from tensorflow.keras.layers import Dense, Dropout, Activation, Flatten\n",
    "from tensorflow.keras.layers import Conv2D, MaxPooling2D\n",
    "import time"
   ]
  },
  {
   "cell_type": "code",
   "execution_count": 25,
   "id": "29deac73",
   "metadata": {},
   "outputs": [],
   "source": [
    "import pickle # Retrieving the variables that were saved in pickle earlier (from the processing part)\n",
    "\n",
    "#  In order to read a particular variable 'X' & 'y' that was saved as pickle variable type load. X - features & y - labels \n",
    "pickle_in = open(\"X.pickle\",\"rb\")\n",
    "X = pickle.load(pickle_in)\n",
    "\n",
    "pickle_in = open(\"y.pickle\",\"rb\")\n",
    "y = pickle.load(pickle_in)"
   ]
  },
  {
   "cell_type": "code",
   "execution_count": 26,
   "id": "0f151afa",
   "metadata": {},
   "outputs": [],
   "source": [
    "# Feature scaling, so that the model will be able to run in a faster way - normalising the images in terms of the features.\n",
    "# X - features & Y - Labels\n",
    "X=np.array(X/255.0)\n",
    "Y=np.array(y)"
   ]
  },
  {
   "cell_type": "code",
   "execution_count": 27,
   "id": "67866ab0",
   "metadata": {},
   "outputs": [],
   "source": [
    "LOG_DIR = f\"{int(time.time())}\""
   ]
  },
  {
   "cell_type": "code",
   "execution_count": 28,
   "id": "f120e84e",
   "metadata": {},
   "outputs": [],
   "source": [
    "# Using Keras tuner to perform hyperparameters optimization where Bayesian optimization is available\n",
    "import keras_tuner\n",
    "from keras_tuner.tuners import Hyperband, BayesianOptimization"
   ]
  },
  {
   "cell_type": "code",
   "execution_count": 29,
   "id": "7935e1fd",
   "metadata": {},
   "outputs": [],
   "source": [
    "def build_model(hp):  \n",
    "    model = Sequential() # Developed the CNN layer by layer\n",
    "    \n",
    "    # Identifying the best no. of filters in the 1st convolution layer\n",
    "    model.add(Conv2D(hp.Int(\"input units\", min_value=32, max_value=128, step=16), (3 , 3), input_shape=(100, 100, 1)))\n",
    "    model.add(Activation('relu'))\n",
    "    model.add(MaxPooling2D(pool_size=(2, 2)))\n",
    "    \n",
    "    for i in range(hp.Int('n_layers', 1,4)): # Identifying the best no. of layers after the 1st convolution block\n",
    "        model.add(Conv2D(hp.Int(f\"conv_{i}_units\", min_value=32, max_value=128, step=16), (3 , 3))) # Within these parameters\n",
    "        model.add(Activation('relu'))\n",
    "        model.add(MaxPooling2D(pool_size=(2, 2)))\n",
    "        \n",
    "    model.add(Flatten()) # Converts the 3D feature maps to 1D feature vectors\n",
    "    model.add(Dense(hp.Choice('units',[16,32,48,64,80,96,112,128]))) # Finding out the best no. of neurons in this dense layer\n",
    "    model.add(Dense(1)) # 1 output (COVID or NON-COVID)\n",
    "    \n",
    "    hp_learning_rate = hp.Choice('learning_rate', values = [1e-2, 1e-3, 1e-4]) # The best learning rate within this parameters\n",
    "    opt = Adam(hp_learning_rate)\n",
    "    model.add(Activation('sigmoid')) # Used for binary classification 0 & 1, more than 2 then use softmax\n",
    "    model.compile(loss='binary_crossentropy',optimizer=opt, metrics=['accuracy'])\n",
    "\n",
    "    return model   "
   ]
  },
  {
   "cell_type": "code",
   "execution_count": 31,
   "id": "7b3f9866",
   "metadata": {},
   "outputs": [],
   "source": [
    "# Max_trials implies the number of hyperparameter combinations that will be tested by the tuner\n",
    "# Using validation accuaracy to determine the best model\n",
    "tuner = BayesianOptimization(\n",
    "        build_model,\n",
    "        objective='val_accuracy',\n",
    "        max_trials=6)"
   ]
  },
  {
   "cell_type": "code",
   "execution_count": 32,
   "id": "3e1e82ce",
   "metadata": {},
   "outputs": [
    {
     "name": "stdout",
     "output_type": "stream",
     "text": [
      "Search space summary\n",
      "Default search space size: 5\n",
      "input units (Int)\n",
      "{'default': None, 'conditions': [], 'min_value': 32, 'max_value': 128, 'step': 16, 'sampling': None}\n",
      "n_layers (Int)\n",
      "{'default': None, 'conditions': [], 'min_value': 1, 'max_value': 4, 'step': 1, 'sampling': None}\n",
      "conv_0_units (Int)\n",
      "{'default': None, 'conditions': [], 'min_value': 32, 'max_value': 128, 'step': 16, 'sampling': None}\n",
      "units (Choice)\n",
      "{'default': 16, 'conditions': [], 'values': [16, 32, 48, 64, 80, 96, 112, 128], 'ordered': True}\n",
      "learning_rate (Choice)\n",
      "{'default': 0.01, 'conditions': [], 'values': [0.01, 0.001, 0.0001], 'ordered': True}\n"
     ]
    }
   ],
   "source": [
    "# The types of hyperparameters to be tuned and the boundaries \n",
    "tuner.search_space_summary()"
   ]
  },
  {
   "cell_type": "code",
   "execution_count": 33,
   "id": "d88d836a",
   "metadata": {},
   "outputs": [],
   "source": [
    "# Train on 10720 and 1340 images\n",
    "from sklearn.model_selection import train_test_split\n",
    "trainX,testX,trainY,testY = train_test_split(X,Y,test_size=0.1111)"
   ]
  },
  {
   "cell_type": "code",
   "execution_count": 34,
   "id": "e62e4379",
   "metadata": {},
   "outputs": [
    {
     "data": {
      "text/plain": [
       "1340"
      ]
     },
     "execution_count": 34,
     "metadata": {},
     "output_type": "execute_result"
    }
   ],
   "source": [
    "# Reflects the no. of labels in the validation set\n",
    "len(testY)"
   ]
  },
  {
   "cell_type": "code",
   "execution_count": 35,
   "id": "c684c0e9",
   "metadata": {},
   "outputs": [
    {
     "data": {
      "text/plain": [
       "10720"
      ]
     },
     "execution_count": 35,
     "metadata": {},
     "output_type": "execute_result"
    }
   ],
   "source": [
    "# Reflects the no. of images in the training set\n",
    "len(trainX)"
   ]
  },
  {
   "cell_type": "code",
   "execution_count": 36,
   "id": "07228075",
   "metadata": {},
   "outputs": [
    {
     "name": "stdout",
     "output_type": "stream",
     "text": [
      "Trial 6 Complete [00h 03m 35s]\n",
      "val_accuracy: 0.9171642065048218\n",
      "\n",
      "Best val_accuracy So Far: 0.9611940383911133\n",
      "Total elapsed time: 00h 24m 32s\n",
      "INFO:tensorflow:Oracle triggered exit\n"
     ]
    }
   ],
   "source": [
    "# Searching for the best parameters under build model, for only 3 epochs\n",
    "tuner.search(trainX,trainY,\n",
    "             epochs=3,\n",
    "             validation_data=(testX,testY))"
   ]
  },
  {
   "cell_type": "code",
   "execution_count": 37,
   "id": "55aa6322",
   "metadata": {},
   "outputs": [
    {
     "name": "stdout",
     "output_type": "stream",
     "text": [
      "<keras_tuner.engine.hyperparameters.HyperParameters object at 0x00000270CD41ADF0>\n"
     ]
    }
   ],
   "source": [
    "best_hyperparameters = tuner.get_best_hyperparameters(1)[0]\n",
    "print(best_hyperparameters)"
   ]
  },
  {
   "cell_type": "code",
   "execution_count": 38,
   "id": "bb0df922",
   "metadata": {},
   "outputs": [
    {
     "data": {
      "text/plain": [
       "{'input units': 32,\n",
       " 'n_layers': 1,\n",
       " 'conv_0_units': 128,\n",
       " 'units': 16,\n",
       " 'learning_rate': 0.001,\n",
       " 'conv_1_units': 80}"
      ]
     },
     "execution_count": 38,
     "metadata": {},
     "output_type": "execute_result"
    }
   ],
   "source": [
    "# The best hyperparameters for the model\n",
    "tuner.get_best_hyperparameters()[0].values"
   ]
  },
  {
   "cell_type": "code",
   "execution_count": 39,
   "id": "eae9ba22",
   "metadata": {},
   "outputs": [
    {
     "name": "stdout",
     "output_type": "stream",
     "text": [
      "WARNING:tensorflow:Unresolved object in checkpoint: (root).optimizer.iter\n",
      "WARNING:tensorflow:Unresolved object in checkpoint: (root).optimizer.beta_1\n",
      "WARNING:tensorflow:Unresolved object in checkpoint: (root).optimizer.beta_2\n",
      "WARNING:tensorflow:Unresolved object in checkpoint: (root).optimizer.decay\n",
      "WARNING:tensorflow:Unresolved object in checkpoint: (root).optimizer.learning_rate\n",
      "WARNING:tensorflow:A checkpoint was restored (e.g. tf.train.Checkpoint.restore or tf.keras.Model.load_weights) but not all checkpointed values were used. See above for specific issues. Use expect_partial() on the load status object, e.g. tf.train.Checkpoint.restore(...).expect_partial(), to silence these warnings, or use assert_consumed() to make the check explicit. See https://www.tensorflow.org/guide/checkpoint#loading_mechanics for details.\n",
      "WARNING:tensorflow:Unresolved object in checkpoint: (root).optimizer.iter\n",
      "WARNING:tensorflow:Unresolved object in checkpoint: (root).optimizer.beta_1\n",
      "WARNING:tensorflow:Unresolved object in checkpoint: (root).optimizer.beta_2\n",
      "WARNING:tensorflow:Unresolved object in checkpoint: (root).optimizer.decay\n",
      "WARNING:tensorflow:Unresolved object in checkpoint: (root).optimizer.learning_rate\n",
      "WARNING:tensorflow:A checkpoint was restored (e.g. tf.train.Checkpoint.restore or tf.keras.Model.load_weights) but not all checkpointed values were used. See above for specific issues. Use expect_partial() on the load status object, e.g. tf.train.Checkpoint.restore(...).expect_partial(), to silence these warnings, or use assert_consumed() to make the check explicit. See https://www.tensorflow.org/guide/checkpoint#loading_mechanics for details.\n",
      "Model: \"sequential\"\n",
      "_________________________________________________________________\n",
      "Layer (type)                 Output Shape              Param #   \n",
      "=================================================================\n",
      "conv2d (Conv2D)              (None, 98, 98, 32)        320       \n",
      "_________________________________________________________________\n",
      "activation (Activation)      (None, 98, 98, 32)        0         \n",
      "_________________________________________________________________\n",
      "max_pooling2d (MaxPooling2D) (None, 49, 49, 32)        0         \n",
      "_________________________________________________________________\n",
      "conv2d_1 (Conv2D)            (None, 47, 47, 128)       36992     \n",
      "_________________________________________________________________\n",
      "activation_1 (Activation)    (None, 47, 47, 128)       0         \n",
      "_________________________________________________________________\n",
      "max_pooling2d_1 (MaxPooling2 (None, 23, 23, 128)       0         \n",
      "_________________________________________________________________\n",
      "flatten (Flatten)            (None, 67712)             0         \n",
      "_________________________________________________________________\n",
      "dense (Dense)                (None, 16)                1083408   \n",
      "_________________________________________________________________\n",
      "dense_1 (Dense)              (None, 1)                 17        \n",
      "_________________________________________________________________\n",
      "activation_2 (Activation)    (None, 1)                 0         \n",
      "=================================================================\n",
      "Total params: 1,120,737\n",
      "Trainable params: 1,120,737\n",
      "Non-trainable params: 0\n",
      "_________________________________________________________________\n",
      "None\n"
     ]
    }
   ],
   "source": [
    "# Showing further details of the best model\n",
    "n_best_models = tuner.get_best_models(num_models=2)\n",
    "print(n_best_models[0].summary())"
   ]
  },
  {
   "cell_type": "code",
   "execution_count": 40,
   "id": "3a292569",
   "metadata": {},
   "outputs": [],
   "source": [
    "model = tuner.hypermodel.build(best_hyperparameters)"
   ]
  },
  {
   "cell_type": "code",
   "execution_count": 41,
   "id": "812b7c90",
   "metadata": {},
   "outputs": [
    {
     "name": "stdout",
     "output_type": "stream",
     "text": [
      "Epoch 1/15\n",
      "335/335 [==============================] - 74s 220ms/step - loss: 0.3192 - accuracy: 0.8789 - val_loss: 0.2072 - val_accuracy: 0.9239\n",
      "Epoch 2/15\n",
      "335/335 [==============================] - 73s 217ms/step - loss: 0.1822 - accuracy: 0.9324 - val_loss: 0.2084 - val_accuracy: 0.9216\n",
      "Epoch 3/15\n",
      "335/335 [==============================] - 73s 219ms/step - loss: 0.1169 - accuracy: 0.9552 - val_loss: 0.0944 - val_accuracy: 0.9672\n",
      "Epoch 4/15\n",
      "335/335 [==============================] - 75s 223ms/step - loss: 0.0695 - accuracy: 0.9760 - val_loss: 0.0885 - val_accuracy: 0.9649\n",
      "Epoch 5/15\n",
      "335/335 [==============================] - 73s 218ms/step - loss: 0.0483 - accuracy: 0.9827 - val_loss: 0.0686 - val_accuracy: 0.9716\n",
      "Epoch 6/15\n",
      "335/335 [==============================] - 74s 222ms/step - loss: 0.0280 - accuracy: 0.9904 - val_loss: 0.0841 - val_accuracy: 0.9649\n",
      "Epoch 7/15\n",
      "335/335 [==============================] - 73s 218ms/step - loss: 0.0225 - accuracy: 0.9915 - val_loss: 0.0569 - val_accuracy: 0.9828\n",
      "Epoch 8/15\n",
      "335/335 [==============================] - 73s 218ms/step - loss: 0.0274 - accuracy: 0.9895 - val_loss: 0.0827 - val_accuracy: 0.9776\n",
      "Epoch 9/15\n",
      "335/335 [==============================] - 74s 220ms/step - loss: 0.0075 - accuracy: 0.9976 - val_loss: 0.0679 - val_accuracy: 0.9843\n",
      "Epoch 10/15\n",
      "335/335 [==============================] - 76s 227ms/step - loss: 0.0178 - accuracy: 0.9940 - val_loss: 0.1215 - val_accuracy: 0.9761\n",
      "Epoch 11/15\n",
      "335/335 [==============================] - 75s 225ms/step - loss: 0.0197 - accuracy: 0.9931 - val_loss: 0.0640 - val_accuracy: 0.9791\n",
      "Epoch 12/15\n",
      "335/335 [==============================] - 75s 223ms/step - loss: 0.0068 - accuracy: 0.9988 - val_loss: 0.1235 - val_accuracy: 0.9716\n",
      "Epoch 13/15\n",
      "335/335 [==============================] - 74s 220ms/step - loss: 0.0125 - accuracy: 0.9962 - val_loss: 0.0852 - val_accuracy: 0.9799\n",
      "Epoch 14/15\n",
      "335/335 [==============================] - 76s 227ms/step - loss: 0.0072 - accuracy: 0.9973 - val_loss: 0.0862 - val_accuracy: 0.9828\n",
      "Epoch 15/15\n",
      "335/335 [==============================] - 77s 231ms/step - loss: 0.0049 - accuracy: 0.9984 - val_loss: 0.0768 - val_accuracy: 0.9851\n"
     ]
    }
   ],
   "source": [
    "# Re-train the best model, which was identified earlier\n",
    "history = model.fit(trainX,trainY,\n",
    "             epochs=15,\n",
    "             validation_data=(testX,testY))"
   ]
  },
  {
   "cell_type": "code",
   "execution_count": 42,
   "id": "f3a0d49c",
   "metadata": {},
   "outputs": [
    {
     "name": "stdout",
     "output_type": "stream",
     "text": [
      "Accuracy: 98.507\n"
     ]
    }
   ],
   "source": [
    "# Determining the accuracy\n",
    "_,accuracy = model.evaluate(testX,testY,verbose=0)\n",
    "print('Accuracy: %.3f' % (accuracy*100))"
   ]
  },
  {
   "cell_type": "code",
   "execution_count": 43,
   "id": "7260f26a",
   "metadata": {},
   "outputs": [
    {
     "name": "stdout",
     "output_type": "stream",
     "text": [
      "WARNING:tensorflow:From C:\\Users\\kngwe\\anaconda3\\envs\\trouble\\lib\\site-packages\\tensorflow\\python\\training\\tracking\\tracking.py:111: Model.state_updates (from tensorflow.python.keras.engine.training) is deprecated and will be removed in a future version.\n",
      "Instructions for updating:\n",
      "This property should not be used in TensorFlow 2.0, as updates are applied automatically.\n",
      "WARNING:tensorflow:From C:\\Users\\kngwe\\anaconda3\\envs\\trouble\\lib\\site-packages\\tensorflow\\python\\training\\tracking\\tracking.py:111: Layer.updates (from tensorflow.python.keras.engine.base_layer) is deprecated and will be removed in a future version.\n",
      "Instructions for updating:\n",
      "This property should not be used in TensorFlow 2.0, as updates are applied automatically.\n",
      "INFO:tensorflow:Assets written to: my_model\\assets\n"
     ]
    }
   ],
   "source": [
    "# Saving the model\n",
    "model.save(\"my_model\")"
   ]
  }
 ],
 "metadata": {
  "kernelspec": {
   "display_name": "Python 3",
   "language": "python",
   "name": "python3"
  },
  "language_info": {
   "codemirror_mode": {
    "name": "ipython",
    "version": 3
   },
   "file_extension": ".py",
   "mimetype": "text/x-python",
   "name": "python",
   "nbconvert_exporter": "python",
   "pygments_lexer": "ipython3",
   "version": "3.8.11"
  }
 },
 "nbformat": 4,
 "nbformat_minor": 5
}
