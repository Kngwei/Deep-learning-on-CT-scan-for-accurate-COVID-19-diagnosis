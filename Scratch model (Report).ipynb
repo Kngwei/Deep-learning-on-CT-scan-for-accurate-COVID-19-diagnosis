{
 "cells": [
  {
   "cell_type": "code",
   "execution_count": 1,
   "id": "a684af85",
   "metadata": {},
   "outputs": [],
   "source": [
    "# Developing a Convolutional Neural Network (CNN)\n",
    "# These libraries are needed for the CNN (i.e., convolution and max pooling layers)\n",
    "import numpy as np\n",
    "from tensorflow.keras.preprocessing.image import ImageDataGenerator\n",
    "from tensorflow.keras.models import Sequential\n",
    "from tensorflow.keras.layers import Dense, Dropout, Activation, Flatten\n",
    "from tensorflow.keras.layers import Conv2D, MaxPooling2D\n",
    "import time"
   ]
  },
  {
   "cell_type": "code",
   "execution_count": 2,
   "id": "4edca7a2",
   "metadata": {},
   "outputs": [],
   "source": [
    "import pickle # Retrieving the variables that were saved in pickle earlier – X (features) & y (labels)\n",
    "\n",
    "# In order to read a particular variable 'X' & 'y' that was saved as pickle variable type load.\n",
    "pickle_in = open(\"X.pickle\",\"rb\")\n",
    "X = pickle.load(pickle_in)\n",
    "\n",
    "pickle_in = open(\"y.pickle\",\"rb\")\n",
    "y = pickle.load(pickle_in)"
   ]
  },
  {
   "cell_type": "code",
   "execution_count": 3,
   "id": "b5d57ee2",
   "metadata": {},
   "outputs": [],
   "source": [
    "# Normalizing the images in terms of the features, divide 255 to ensure that the pixel values are between 0-1.\n",
    "X=np.array(X/255.0)\n",
    "y=np.array(y)"
   ]
  },
  {
   "cell_type": "code",
   "execution_count": 4,
   "id": "132b63b8",
   "metadata": {},
   "outputs": [],
   "source": [
    "# Develop the deep learning model(sequential way - develop the model layer by layer)\n",
    "\n",
    "model = Sequential()\n",
    "\n",
    "# Feature learning/extraction component \n",
    "# 3 convolution blocks (convolution layer, relu and max pooling layer)\n",
    "model.add(Conv2D(64, (3, 3), input_shape=X.shape[1:])) # Convolution layer with 64 filters, 3 × 3 matrix\n",
    "model.add(Activation('relu')) # Activation function of Relu - removing any negative values and put to 0 - non linearity\n",
    "model.add(MaxPooling2D(pool_size=(2, 2))) # Max pooling layer, 2 × 2 matrix\n",
    "\n",
    "#Same as the 1st convolution layer\n",
    "model.add(Conv2D(64, (3, 3)))\n",
    "model.add(Activation('relu'))\n",
    "model.add(MaxPooling2D(pool_size=(2, 2)))\n",
    "\n",
    "model.add(Conv2D(64, (3, 3)))\n",
    "model.add(Activation('relu'))\n",
    "model.add(MaxPooling2D(pool_size=(2, 2)))\n",
    "\n",
    "model.add(Flatten()) # This will convert the convoluted feature maps to 1D feature vectors\n",
    "\n",
    "# Classification component \n",
    "# Fully connected layers\n",
    "model.add(Dense(64)) # 64 neurons in the dense layer\n",
    "model.add(Dense(1))\n",
    "\n",
    "# 0 for COVID-19, 1 for non-COVID-19\n",
    "model.add(Activation('sigmoid')) # Used for binary classification 0 & 1, more than 2 class then use softmax classifier"
   ]
  },
  {
   "cell_type": "code",
   "execution_count": 5,
   "id": "c5c09adf",
   "metadata": {},
   "outputs": [],
   "source": [
    "# Binary cross entropy - only have 0 & 1 (# 0 for COVID and 1 for NON-COVID) \n",
    "# Adam optimizer – change the attributes of the neural network such as learning rate to reduce the losses (prediction errors). \n",
    "model.compile(loss='binary_crossentropy',\n",
    "              optimizer='adam',\n",
    "              metrics=['accuracy'])"
   ]
  },
  {
   "cell_type": "code",
   "execution_count": 6,
   "id": "a394a2bf",
   "metadata": {},
   "outputs": [
    {
     "name": "stdout",
     "output_type": "stream",
     "text": [
      "Epoch 1/15\n",
      "335/335 [==============================] - 143s 428ms/step - loss: 0.3717 - accuracy: 0.8504 - val_loss: 0.3463 - val_accuracy: 0.8679\n",
      "Epoch 2/15\n",
      "335/335 [==============================] - 125s 372ms/step - loss: 0.2445 - accuracy: 0.9061 - val_loss: 0.2523 - val_accuracy: 0.9015\n",
      "Epoch 3/15\n",
      "335/335 [==============================] - 122s 363ms/step - loss: 0.1855 - accuracy: 0.9317 - val_loss: 0.1844 - val_accuracy: 0.9306\n",
      "Epoch 4/15\n",
      "335/335 [==============================] - 109s 327ms/step - loss: 0.1398 - accuracy: 0.9471 - val_loss: 0.1476 - val_accuracy: 0.9500\n",
      "Epoch 5/15\n",
      "335/335 [==============================] - 111s 332ms/step - loss: 0.1226 - accuracy: 0.9521 - val_loss: 0.1430 - val_accuracy: 0.9455\n",
      "Epoch 6/15\n",
      "335/335 [==============================] - 110s 329ms/step - loss: 0.0894 - accuracy: 0.9676 - val_loss: 0.1675 - val_accuracy: 0.9373\n",
      "Epoch 7/15\n",
      "335/335 [==============================] - 122s 364ms/step - loss: 0.0903 - accuracy: 0.9673 - val_loss: 0.1323 - val_accuracy: 0.9515\n",
      "Epoch 8/15\n",
      "335/335 [==============================] - 111s 331ms/step - loss: 0.0588 - accuracy: 0.9776 - val_loss: 0.0995 - val_accuracy: 0.9560\n",
      "Epoch 9/15\n",
      "335/335 [==============================] - 109s 325ms/step - loss: 0.0505 - accuracy: 0.9826 - val_loss: 0.1078 - val_accuracy: 0.9590\n",
      "Epoch 10/15\n",
      "335/335 [==============================] - 110s 328ms/step - loss: 0.0366 - accuracy: 0.9867 - val_loss: 0.1082 - val_accuracy: 0.9612\n",
      "Epoch 11/15\n",
      "335/335 [==============================] - 111s 330ms/step - loss: 0.0446 - accuracy: 0.9843 - val_loss: 0.0769 - val_accuracy: 0.9731\n",
      "Epoch 12/15\n",
      "335/335 [==============================] - 113s 338ms/step - loss: 0.0258 - accuracy: 0.9910 - val_loss: 0.1105 - val_accuracy: 0.9679\n",
      "Epoch 13/15\n",
      "335/335 [==============================] - 117s 351ms/step - loss: 0.0338 - accuracy: 0.9883 - val_loss: 0.1379 - val_accuracy: 0.9627\n",
      "Epoch 14/15\n",
      "335/335 [==============================] - 114s 339ms/step - loss: 0.0238 - accuracy: 0.9916 - val_loss: 0.0905 - val_accuracy: 0.9701\n",
      "Epoch 15/15\n",
      "335/335 [==============================] - 115s 342ms/step - loss: 0.0314 - accuracy: 0.9899 - val_loss: 0.0795 - val_accuracy: 0.9739\n"
     ]
    },
    {
     "data": {
      "text/plain": [
       "<tensorflow.python.keras.callbacks.History at 0x2a248808dc0>"
      ]
     },
     "execution_count": 6,
     "metadata": {},
     "output_type": "execute_result"
    }
   ],
   "source": [
    "#Trained on 10720 & validate on 1340 images - with batch size 32, 15 epochs and learning rate is 0.01\n",
    "model.fit(X, y, batch_size=32, epochs=15, validation_split=0.1111) "
   ]
  },
  {
   "cell_type": "code",
   "execution_count": 8,
   "id": "6731db29",
   "metadata": {},
   "outputs": [
    {
     "name": "stdout",
     "output_type": "stream",
     "text": [
      "WARNING:tensorflow:From C:\\Users\\kngwe\\anaconda3\\envs\\trouble\\lib\\site-packages\\tensorflow\\python\\training\\tracking\\tracking.py:111: Model.state_updates (from tensorflow.python.keras.engine.training) is deprecated and will be removed in a future version.\n",
      "Instructions for updating:\n",
      "This property should not be used in TensorFlow 2.0, as updates are applied automatically.\n",
      "WARNING:tensorflow:From C:\\Users\\kngwe\\anaconda3\\envs\\trouble\\lib\\site-packages\\tensorflow\\python\\training\\tracking\\tracking.py:111: Layer.updates (from tensorflow.python.keras.engine.base_layer) is deprecated and will be removed in a future version.\n",
      "Instructions for updating:\n",
      "This property should not be used in TensorFlow 2.0, as updates are applied automatically.\n",
      "INFO:tensorflow:Assets written to: my_model for Initial model\\assets\n"
     ]
    }
   ],
   "source": [
    "# Saving this model\n",
    "model.save(\"my_model for Initial model\")"
   ]
  }
 ],
 "metadata": {
  "kernelspec": {
   "display_name": "Python 3",
   "language": "python",
   "name": "python3"
  },
  "language_info": {
   "codemirror_mode": {
    "name": "ipython",
    "version": 3
   },
   "file_extension": ".py",
   "mimetype": "text/x-python",
   "name": "python",
   "nbconvert_exporter": "python",
   "pygments_lexer": "ipython3",
   "version": "3.8.11"
  }
 },
 "nbformat": 4,
 "nbformat_minor": 5
}
